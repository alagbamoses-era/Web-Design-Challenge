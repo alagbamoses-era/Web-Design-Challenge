{
 "cells": [
  {
   "cell_type": "code",
   "execution_count": 1,
   "id": "149f1bc2",
   "metadata": {},
   "outputs": [],
   "source": [
    "import pandas as pd\n",
    "web_df = pd.read_csv(\"Resources/cities.csv\")\n",
    "web_df.to_html(\"Output.html\")"
   ]
  },
  {
   "cell_type": "code",
   "execution_count": null,
   "id": "6ebd377f",
   "metadata": {},
   "outputs": [],
   "source": []
  }
 ],
 "metadata": {
  "kernelspec": {
   "display_name": "Python 3",
   "language": "python",
   "name": "python3"
  },
  "language_info": {
   "codemirror_mode": {
    "name": "ipython",
    "version": 3
   },
   "file_extension": ".py",
   "mimetype": "text/x-python",
   "name": "python",
   "nbconvert_exporter": "python",
   "pygments_lexer": "ipython3",
   "version": "3.8.8"
  }
 },
 "nbformat": 4,
 "nbformat_minor": 5
}
